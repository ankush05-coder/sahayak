{
 "cells": [
  {
   "cell_type": "code",
   "execution_count": 1,
   "id": "ac15ab18",
   "metadata": {},
   "outputs": [
    {
     "name": "stdout",
     "output_type": "stream",
     "text": [
      "Collecting elevenlabs\n",
      "  Downloading elevenlabs-2.7.1-py3-none-any.whl.metadata (6.3 kB)\n",
      "Requirement already satisfied: httpx>=0.21.2 in /home/codespace/.local/lib/python3.12/site-packages (from elevenlabs) (0.28.1)\n",
      "Requirement already satisfied: pydantic>=1.9.2 in /usr/local/python/3.12.1/lib/python3.12/site-packages (from elevenlabs) (2.11.7)\n",
      "Requirement already satisfied: pydantic-core<3.0.0,>=2.18.2 in /usr/local/python/3.12.1/lib/python3.12/site-packages (from elevenlabs) (2.33.2)\n",
      "Requirement already satisfied: requests>=2.20 in /home/codespace/.local/lib/python3.12/site-packages (from elevenlabs) (2.32.3)\n",
      "Requirement already satisfied: typing_extensions>=4.0.0 in /home/codespace/.local/lib/python3.12/site-packages (from elevenlabs) (4.13.2)\n",
      "Requirement already satisfied: websockets>=11.0 in /usr/local/python/3.12.1/lib/python3.12/site-packages (from elevenlabs) (15.0.1)\n",
      "Requirement already satisfied: anyio in /home/codespace/.local/lib/python3.12/site-packages (from httpx>=0.21.2->elevenlabs) (4.9.0)\n",
      "Requirement already satisfied: certifi in /home/codespace/.local/lib/python3.12/site-packages (from httpx>=0.21.2->elevenlabs) (2025.4.26)\n",
      "Requirement already satisfied: httpcore==1.* in /home/codespace/.local/lib/python3.12/site-packages (from httpx>=0.21.2->elevenlabs) (1.0.9)\n",
      "Requirement already satisfied: idna in /home/codespace/.local/lib/python3.12/site-packages (from httpx>=0.21.2->elevenlabs) (3.10)\n",
      "Requirement already satisfied: h11>=0.16 in /home/codespace/.local/lib/python3.12/site-packages (from httpcore==1.*->httpx>=0.21.2->elevenlabs) (0.16.0)\n",
      "Requirement already satisfied: annotated-types>=0.6.0 in /usr/local/python/3.12.1/lib/python3.12/site-packages (from pydantic>=1.9.2->elevenlabs) (0.7.0)\n",
      "Requirement already satisfied: typing-inspection>=0.4.0 in /usr/local/python/3.12.1/lib/python3.12/site-packages (from pydantic>=1.9.2->elevenlabs) (0.4.1)\n",
      "Requirement already satisfied: charset-normalizer<4,>=2 in /home/codespace/.local/lib/python3.12/site-packages (from requests>=2.20->elevenlabs) (3.4.2)\n",
      "Requirement already satisfied: urllib3<3,>=1.21.1 in /home/codespace/.local/lib/python3.12/site-packages (from requests>=2.20->elevenlabs) (2.4.0)\n",
      "Requirement already satisfied: sniffio>=1.1 in /home/codespace/.local/lib/python3.12/site-packages (from anyio->httpx>=0.21.2->elevenlabs) (1.3.1)\n",
      "Downloading elevenlabs-2.7.1-py3-none-any.whl (760 kB)\n",
      "\u001b[2K   \u001b[90m━━━━━━━━━━━━━━━━━━━━━━━━━━━━━━━━━━━━━━━━\u001b[0m \u001b[32m760.8/760.8 kB\u001b[0m \u001b[31m4.0 MB/s\u001b[0m eta \u001b[36m0:00:00\u001b[0ma \u001b[36m0:00:01\u001b[0m\n",
      "\u001b[?25hInstalling collected packages: elevenlabs\n",
      "Successfully installed elevenlabs-2.7.1\n",
      "Note: you may need to restart the kernel to use updated packages.\n"
     ]
    }
   ],
   "source": [
    "pip install elevenlabs"
   ]
  },
  {
   "cell_type": "code",
   "execution_count": 1,
   "id": "bedbda04",
   "metadata": {},
   "outputs": [],
   "source": [
    "ELEVENLABS_API_KEY=\"sk_0eb7f6bbe92ceb0a669aae6c8c5a45e620d022a51ea45693\""
   ]
  },
  {
   "cell_type": "code",
   "execution_count": 10,
   "id": "9a2e16ba",
   "metadata": {},
   "outputs": [
    {
     "name": "stdout",
     "output_type": "stream",
     "text": [
      "language_code='eng' language_probability=1.0 text='Explain the term TFIDF.' words=[SpeechToTextWordResponseModel(text='Explain', start=0.459, end=0.899, type='word', speaker_id='speaker_0', logprob=0.0, characters=None), SpeechToTextWordResponseModel(text=' ', start=0.899, end=0.899, type='spacing', speaker_id='speaker_0', logprob=0.0, characters=None), SpeechToTextWordResponseModel(text='the', start=0.899, end=1.019, type='word', speaker_id='speaker_0', logprob=0.0, characters=None), SpeechToTextWordResponseModel(text=' ', start=1.019, end=1.079, type='spacing', speaker_id='speaker_0', logprob=0.0, characters=None), SpeechToTextWordResponseModel(text='term', start=1.079, end=1.259, type='word', speaker_id='speaker_0', logprob=0.0, characters=None), SpeechToTextWordResponseModel(text=' ', start=1.259, end=1.379, type='spacing', speaker_id='speaker_0', logprob=0.0, characters=None), SpeechToTextWordResponseModel(text='TFIDF.', start=1.379, end=2.619, type='word', speaker_id='speaker_0', logprob=0.0, characters=None)] additional_formats=None\n"
     ]
    }
   ],
   "source": [
    "# example.py\n",
    "import os\n",
    "from dotenv import load_dotenv\n",
    "from io import BytesIO\n",
    "import requests\n",
    "from elevenlabs.client import ElevenLabs\n",
    "\n",
    "load_dotenv()\n",
    "\n",
    "elevenlabs = ElevenLabs(\n",
    "  api_key=ELEVENLABS_API_KEY,\n",
    ")\n",
    "\n",
    "# audio_url = (\n",
    "#     \"https://storage.googleapis.com/eleven-public-cdn/audio/marketing/nicole.mp3\"\n",
    "# )\n",
    "# response = requests.get(audio_url)\n",
    "# audio_data = BytesIO(response.content)\n",
    "audio_url='/workspaces/sahayak/2.opus'\n",
    "audio_data= BytesIO(open(audio_url, 'rb').read())\n",
    "\n",
    "transcription = elevenlabs.speech_to_text.convert(\n",
    "    file=audio_data,\n",
    "    model_id=\"scribe_v1\", # Model to use, for now only \"scribe_v1\" is supported\n",
    "    tag_audio_events=True, # Tag audio events like laughter, applause, etc.\n",
    "    language_code=\"eng\", # Language of the audio file. If set to None, the model will detect the language automatically.\n",
    "    diarize=True, # Whether to annotate who is speaking\n",
    ")\n",
    "\n",
    "print(transcription)"
   ]
  },
  {
   "cell_type": "code",
   "execution_count": 11,
   "id": "d6a8fd6a",
   "metadata": {},
   "outputs": [
    {
     "data": {
      "text/plain": [
       "'Explain the term TFIDF.'"
      ]
     },
     "execution_count": 11,
     "metadata": {},
     "output_type": "execute_result"
    }
   ],
   "source": [
    "transcription.text"
   ]
  },
  {
   "cell_type": "code",
   "execution_count": null,
   "id": "2a1dba82",
   "metadata": {},
   "outputs": [],
   "source": []
  }
 ],
 "metadata": {
  "kernelspec": {
   "display_name": "Python 3",
   "language": "python",
   "name": "python3"
  },
  "language_info": {
   "codemirror_mode": {
    "name": "ipython",
    "version": 3
   },
   "file_extension": ".py",
   "mimetype": "text/x-python",
   "name": "python",
   "nbconvert_exporter": "python",
   "pygments_lexer": "ipython3",
   "version": "3.12.1"
  }
 },
 "nbformat": 4,
 "nbformat_minor": 5
}
